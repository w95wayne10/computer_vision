{
  "cells": [
    {
      "cell_type": "markdown",
      "metadata": {
        "id": "view-in-github",
        "colab_type": "text"
      },
      "source": [
        "<a href=\"https://colab.research.google.com/github/w95wayne10/computer_vision/blob/master/summary.ipynb\" target=\"_parent\"><img src=\"https://colab.research.google.com/assets/colab-badge.svg\" alt=\"Open In Colab\"/></a>"
      ]
    },
    {
      "cell_type": "code",
      "execution_count": null,
      "metadata": {
        "id": "cPET7BiJBqlY"
      },
      "outputs": [],
      "source": [
        "import cv2\n",
        "import matplotlib.pyplot as plt\n",
        "import numpy as np\n",
        "#from google.colab.patches import cv2_imshow"
      ]
    },
    {
      "cell_type": "code",
      "source": [
        "def Convolu(img, pattern):\n",
        "  n,m = pattern.shape\n",
        "  padding_img = np.zeros((img.shape[0]+n-1,img.shape[1]+m-1))\n",
        "  n_size = (n-1)//2\n",
        "  m_size = (m-1)//2\n",
        "  padding_img[n_size:-n_size,m_size:-m_size]=img\n",
        "  padding_img_to1 = padding_img//255\n",
        "  convolu_img_to1 = np.zeros(img.shape)\n",
        "  for i in range(img.shape[0]):\n",
        "    for j in range(img.shape[1]):\n",
        "      convolu_img_to1[i,j] = np.sum(padding_img_to1[i:i+n,j:j+m]*pattern)\n",
        "  return convolu_img_to1\n",
        "\n",
        "octogonal_kernel = np.array([[0,1,1,1,0],\n",
        "                             [1,1,1,1,1],\n",
        "                             [1,1,1,1,1],\n",
        "                             [1,1,1,1,1],\n",
        "                             [0,1,1,1,0]])\n",
        "J = np.array([[0,0,0],[1,1,0],[0,1,0]])\n",
        "K = np.array([[0,1,1],[0,0,1],[0,0,0]])\n",
        "\n",
        "\n",
        "pattern_sum = np.sum(octogonal_kernel)\n",
        "\n",
        "def Dilation(convolu_img):\n",
        "  return (convolu_img>0.5)*255\n",
        "\n",
        "def Erosion(convolu_img):\n",
        "  return (convolu_img>pattern_sum-0.5)*255"
      ],
      "metadata": {
        "id": "Onu0xuQ4UwL2"
      },
      "execution_count": null,
      "outputs": []
    },
    {
      "cell_type": "code",
      "source": [
        "# 讀檔\n",
        "lena_gray = cv2.imread('lena.bmp', cv2.IMREAD_GRAYSCALE)"
      ],
      "metadata": {
        "id": "Dbr7nCqcB_Q2"
      },
      "execution_count": null,
      "outputs": []
    },
    {
      "cell_type": "code",
      "execution_count": null,
      "metadata": {
        "id": "3tprqsT7Bqlb"
      },
      "outputs": [],
      "source": [
        "# HW1\n",
        "# 變更順序達到旋轉鏡射等效果\n",
        "upside_down_lena = lena_gray[::-1, :]\n",
        "rightside_left_lena = lena_gray[:, ::-1]\n",
        "diagonally_flip_lena = lena_gray.T\n",
        "\n",
        "cv2.imwrite('upside_down_lena.bmp', upside_down_lena)\n",
        "cv2.imwrite('rightside_left_lena.bmp', rightside_left_lena)\n",
        "cv2.imwrite('diagonally_flip_lena.bmp', diagonally_flip_lena)"
      ]
    },
    {
      "cell_type": "code",
      "execution_count": null,
      "metadata": {
        "id": "V_vvrOJSBqlb"
      },
      "outputs": [],
      "source": [
        "# 二元化\n",
        "binarize_lena = lena_gray//128*255\n",
        "cv2.imwrite('binarize_lena.bmp', binarize_lena)\n",
        "\n",
        "\n",
        "# 分群\n",
        "IDlist = []\n",
        "IDlist.append(0)\n",
        "IDtable = np.zeros((512,512),dtype=int)\n",
        "ID = 1\n",
        "for r, row in enumerate(binarize_lena):\n",
        "  for c, pix in enumerate(row):\n",
        "    if pix==0:\n",
        "      continue\n",
        "    if r:\n",
        "      if c and IDtable[r-1,c-1]:\n",
        "        IDtable[r,c] = IDtable[r-1,c-1]\n",
        "      elif IDtable[r-1,c]:\n",
        "        if IDtable[r,c]:\n",
        "          IDlist[IDtable[r-1,c]][\"neighbor\"].add(IDtable[r,c])\n",
        "          IDlist[IDtable[r,c]][\"neighbor\"].add(IDtable[r-1,c])\n",
        "        else:\n",
        "          IDtable[r,c] = IDtable[r-1,c]\n",
        "      elif c<511 and IDtable[r-1,c+1]:\n",
        "        if IDtable[r,c]:\n",
        "          IDlist[IDtable[r-1,c+1]][\"neighbor\"].add(IDtable[r,c])\n",
        "          IDlist[IDtable[r,c]][\"neighbor\"].add(IDtable[r-1,c+1])\n",
        "        else:\n",
        "          IDtable[r,c] = IDtable[r-1,c+1]\n",
        "    if c and IDtable[r,c-1]:\n",
        "      if IDtable[r,c]:\n",
        "        IDlist[IDtable[r,c-1]][\"neighbor\"].add(IDtable[r,c])\n",
        "        IDlist[IDtable[r,c]][\"neighbor\"].add(IDtable[r,c-1])\n",
        "      else:\n",
        "        IDtable[r,c] = IDtable[r,c-1]\n",
        "    if not IDtable[r,c]:\n",
        "      IDtable[r,c] = ID\n",
        "      ID+=1\n",
        "      IDlist.append({\"up\":512,\"down\":0,\"left\":512,\"right\":0,\"count\":0,\"sum\":[0,0],\"neighbor\":set()})\n",
        "    IDlist[IDtable[r,c]][\"up\"] = min(IDlist[IDtable[r,c]][\"up\"],r)\n",
        "    IDlist[IDtable[r,c]][\"down\"] = max(IDlist[IDtable[r,c]][\"down\"],r)\n",
        "    IDlist[IDtable[r,c]][\"left\"] = min(IDlist[IDtable[r,c]][\"left\"],c)\n",
        "    IDlist[IDtable[r,c]][\"right\"] = max(IDlist[IDtable[r,c]][\"right\"],c)\n",
        "    IDlist[IDtable[r,c]][\"count\"] += 1\n",
        "    IDlist[IDtable[r,c]][\"sum\"][0] += r\n",
        "    IDlist[IDtable[r,c]][\"sum\"][1] += c\n",
        "for i in range(len(IDlist)-1,1,-1):\n",
        "  if not IDlist[i]['neighbor']:\n",
        "    continue\n",
        "  belong = min(IDlist[i]['neighbor'])\n",
        "  if belong == i:\n",
        "    continue\n",
        "  for j in IDlist[i]['neighbor']:\n",
        "    if i==j:\n",
        "      continue\n",
        "    IDlist[j]['neighbor'].add(belong)\n",
        "    if i in IDlist[j]['neighbor']:\n",
        "      IDlist[j]['neighbor'].remove(i)\n",
        "  IDlist[belong][\"up\"] = min(IDlist[belong][\"up\"],IDlist[i][\"up\"])\n",
        "  IDlist[belong][\"down\"] = max(IDlist[belong][\"down\"],IDlist[i][\"down\"])\n",
        "  IDlist[belong][\"left\"] = min(IDlist[belong][\"left\"],IDlist[i][\"left\"])\n",
        "  IDlist[belong][\"right\"] = max(IDlist[belong][\"right\"],IDlist[i][\"right\"])\n",
        "  IDlist[belong][\"count\"] += IDlist[i][\"count\"]\n",
        "  IDlist[belong][\"sum\"][0] += IDlist[i][\"sum\"][0]\n",
        "  IDlist[belong][\"sum\"][1] += IDlist[i][\"sum\"][1]\n",
        "  IDlist.pop(i)\n",
        "for i in range(len(IDlist)-1,1,-1):\n",
        "  if IDlist[i][\"count\"]<500:\n",
        "    IDlist.pop(i)\n",
        "image = cv2.cvtColor(binarize_lena, cv2.COLOR_GRAY2BGR)\n",
        "for grp in IDlist:\n",
        "  if grp == 0:\n",
        "    continue\n",
        "  image = cv2.circle(image, \n",
        "          (int(np.round(grp[\"sum\"][1]/grp[\"count\"])), int(np.round(grp[\"sum\"][0]/grp[\"count\"]))), \n",
        "          radius=0, \n",
        "          color=(0, 0, 255), \n",
        "          thickness=10)\n",
        "  image = cv2.rectangle(image, (grp[\"left\"],grp[\"up\"]), (grp[\"right\"],grp[\"down\"]), (255,0, 0), 2)\n",
        "cv2.imwrite('group_of_lena.bmp', image)"
      ]
    },
    {
      "cell_type": "code",
      "source": [
        "divid_3_lena_gray = np.uint8(np.rint(lena_gray/3))\n",
        "cv2.imwrite('divid_3_lena_gray.bmp', divid_3_lena_gray)"
      ],
      "metadata": {
        "id": "VvcRKm5aCpg5"
      },
      "execution_count": null,
      "outputs": []
    },
    {
      "cell_type": "code",
      "execution_count": null,
      "metadata": {
        "id": "rvAD4HeMBqld"
      },
      "outputs": [],
      "source": [
        "# 灰階圖的色階統計\n",
        "\n",
        "def gray_level_value_count(gray_img):\n",
        "  value_count = [0]*256\n",
        "  for row in gray_img:\n",
        "    for pix in row:\n",
        "      value_count[pix]+=1\n",
        "  return value_count\n",
        "\n",
        "def gray_level_value_count_chart(gray_img, out_fig_name):\n",
        "  value_count = gray_level_value_count(gray_img)\n",
        "  plt.figure(dpi=500)\n",
        "  plt.bar(list(range(256)),value_count,1)\n",
        "  plt.xlabel(\"gray level value\")\n",
        "  plt.xlim(0,255)\n",
        "  plt.ylabel(\"count\")\n",
        "  plt.savefig(out_fig_name)\n",
        "  return\n",
        "\n",
        "gray_level_value_count_chart(lena_gray, 'value_count_lena.png')\n",
        "gray_level_value_count_chart(divid_3_lena_gray, 'value_count_divid_3_lena_gray.png')"
      ]
    },
    {
      "cell_type": "code",
      "source": [
        "def gray_hist_equalization(gray_img):\n",
        "  value_cumsum = []\n",
        "  minlevel, maxlevel, sum_value = -1, -1, 0\n",
        "  novalue = True\n",
        "  for level, count in enumerate(gray_level_value_count(gray_img)):\n",
        "    sum_value += count\n",
        "    value_cumsum.append(sum_value)\n",
        "    if novalue and count>0:\n",
        "      novalue=False\n",
        "      minlevel = level\n",
        "    if count>0:\n",
        "      maxlevel = level\n",
        "\n",
        "  new_value_count = [0]*256\n",
        "  transfor_list = [0]*256\n",
        "  Denominator = value_cumsum[maxlevel]-value_cumsum[minlevel]\n",
        "  Numerator = lambda x: value_cumsum[x]-value_cumsum[minlevel]\n",
        "  for level in range(minlevel, maxlevel+1):\n",
        "    new_level = int(np.round(Numerator(level)*255/Denominator))\n",
        "    transfor_list[level] = new_level\n",
        "    new_value_count[new_level] += value_count[level]\n",
        "\n",
        "  hist_equalization_lena_gray = divid_3_lena_gray.copy()\n",
        "  for r,row in enumerate(hist_equalization_lena_gray):\n",
        "    for c,_ in enumerate(row):\n",
        "      hist_equalization_lena_gray[r,c] = transfor_list[hist_equalization_lena_gray[r,c]]\n",
        "  cv2.imwrite('hist_equalization_lena_gray.bmp', hist_equalization_lena_gray)\n",
        "\n",
        "plt.figure(dpi=500)\n",
        "plt.bar(list(range(256)),new_value_count,1)\n",
        "plt.xlabel(\"gray level value\")\n",
        "plt.xlim(0,255)\n",
        "plt.ylabel(\"count\")\n",
        "plt.savefig('value_count_hist_equalization_lena_gray.png')"
      ],
      "metadata": {
        "id": "3aVBM_wzBu16"
      },
      "execution_count": null,
      "outputs": []
    },
    {
      "cell_type": "code",
      "source": [
        "convolu_binarize_lena = Convolu(binarize_lena, octogonal_kernel)\n",
        "\n",
        "Dilation_binarize_lena = Dilation(convolu_binarize_lena)\n",
        "Erosion_binarize_lena = Erosion(convolu_binarize_lena)\n",
        "convolu_Erosion_binarize_lena = Convolu(Erosion_binarize_lena, octogonal_kernel)\n",
        "Opening_binarize_lena = Dilation(convolu_Erosion_binarize_lena)\n",
        "convolu_Dilation_binarize_lena = Convolu(Dilation_binarize_lena, octogonal_kernel)\n",
        "Closing_binarize_lena = Erosion(convolu_Dilation_binarize_lena)\n",
        "Jconvolu_binarize_lena = Convolu(binarize_lena, J)\n",
        "pattern_sum = np.sum(J)\n",
        "JErosion = Erosion(Jconvolu_binarize_lena)\n",
        "Kconvolu_binarize_lena = Convolu(255-binarize_lena, K)\n",
        "pattern_sum = np.sum(K)\n",
        "KErosion = Erosion(Kconvolu_binarize_lena)\n",
        "HitandMiss_binarize_lena = ((JErosion > 128)&(KErosion > 128))*255\n",
        "\n",
        "cv2.imwrite('Dilation_binarize_lena.bmp', Dilation_binarize_lena)\n",
        "cv2.imwrite('Erosion_binarize_lena.bmp', Erosion_binarize_lena)\n",
        "cv2.imwrite('Opening_binarize_lena.bmp', Opening_binarize_lena)\n",
        "cv2.imwrite('Closing_binarize_lena.bmp', Closing_binarize_lena)\n",
        "cv2.imwrite('HitandMiss_binarize_lena.bmp', HitandMiss_binarize_lena)"
      ],
      "metadata": {
        "id": "VYGvy-WFUrzt"
      },
      "execution_count": null,
      "outputs": []
    }
  ],
  "metadata": {
    "language_info": {
      "name": "python"
    },
    "orig_nbformat": 4,
    "colab": {
      "name": "summary.ipynb",
      "provenance": [],
      "include_colab_link": true
    }
  },
  "nbformat": 4,
  "nbformat_minor": 0
}